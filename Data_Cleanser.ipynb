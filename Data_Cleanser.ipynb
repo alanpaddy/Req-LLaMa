{
 "cells": [
  {
   "cell_type": "code",
   "execution_count": 2,
   "metadata": {},
   "outputs": [],
   "source": [
    "import pandas as pd\n",
    "import seaborn as sbn\n",
    "import matplotlib.pyplot as plt\n",
    "import numpy as np\n",
    "from sklearn.model_selection import train_test_split\n",
    "import json\n",
    "\n",
    "import warnings\n",
    "warnings.filterwarnings(\"ignore\")\n",
    "\n",
    "pd.set_option('display.max_rows', None)\n",
    "pd.set_option('display.max_columns', None)\n",
    "pd.set_option('display.width', None)\n",
    "\n"
   ]
  },
  {
   "attachments": {},
   "cell_type": "markdown",
   "metadata": {},
   "source": [
    "## Understanding the Dataset"
   ]
  },
  {
   "attachments": {},
   "cell_type": "markdown",
   "metadata": {},
   "source": [
    "Some outputs are removed form the notebook to protect proprietal information. This section codes functions to aid with the understanding and observation of the raw dataset."
   ]
  },
  {
   "cell_type": "code",
   "execution_count": 4,
   "metadata": {},
   "outputs": [
    {
     "name": "stdout",
     "output_type": "stream",
     "text": [
      "<class 'pandas.core.frame.DataFrame'>\n",
      "RangeIndex: 29344 entries, 0 to 29343\n",
      "Data columns (total 6 columns):\n",
      " #   Column          Non-Null Count  Dtype \n",
      "---  ------          --------------  ----- \n",
      " 0   Discipline      29344 non-null  object\n",
      " 1   Module Name     29344 non-null  object\n",
      " 2   Module UID      29344 non-null  object\n",
      " 3   Requirement ID  29344 non-null  object\n",
      " 4   Object Type     29194 non-null  object\n",
      " 5   Object Text     29234 non-null  object\n",
      "dtypes: object(6)\n",
      "memory usage: 1.3+ MB\n"
     ]
    }
   ],
   "source": [
    "pd.set_option('display.max_columns', None)\n",
    "df=pd.read_csv('path to input dataset/file.csv', encoding='ISO-8859-1')\n",
    "df_describe=df.describe()\n",
    "df.info()"
   ]
  },
  {
   "attachments": {},
   "cell_type": "markdown",
   "metadata": {},
   "source": [
    "### Comments on the dataset:\n",
    "From the pandas description, the following observations are made:\n",
    "* Total size of the dataset are circa 30K requirements.\n",
    "* There are 3 unique disciplines as tagged in the DXL script.\n",
    "* There are a total of 17200 unique Object Texts, indicating duplication. This is expected since there is an overlap with 2 of the disciplines. This is specially true across Module Name category (since some of the different contracts across across a given discipline contain the same requirements) but also holds across both disciplines. The classification distinction between these 2 disciplines is hard and ambiguous, so we group these 2 disciplines in to two.\n",
    "* There are a total of 29 Unique Module Names\n",
    "* Module Unique identifier contains an apostrophe to cope with csv format and contains alphanumerical characters.\n",
    "* Object Type contains 7 unique labels."
   ]
  },
  {
   "attachments": {},
   "cell_type": "markdown",
   "metadata": {},
   "source": [
    "### What do we need for training?\n",
    "* We are going to be classifying the Object Text according to the Object Type and Discipline labels.\n",
    "\n",
    "For Req-BERTA there are 3 problems we are solving:\n",
    "1) Problem 1: Binary classification of \"Object Text\" using the \"Object Type\" label (Functional Requirement, Non-Functional Requirement) classes.\n",
    "2) Problem 2: Binary classification of \"Object Text\" using the \"Discipline\" Label (0, 1)\n",
    "3) Problem 3: Multilabel classification of \"Object Text\" using \"Object Type\" and \"Discipline labels\"."
   ]
  },
  {
   "cell_type": "markdown",
   "metadata": {},
   "source": []
  },
  {
   "attachments": {},
   "cell_type": "markdown",
   "metadata": {},
   "source": [
    "### Actions to perform on the dataset:\n",
    "1) Remove duplicated values of Object Texts\n",
    "2) Normalize the Discipline label: \"Construction\" and \"Rail Systems\"\n",
    "3) Normalize the Object Type label: \"Functional Requirement\" and \"Non-Functional Requirement\"\n",
    "4) Split the data into Training, Validation, and Testing. We chose a ration of 70-30 for Training and Testing, and 20% of the training data for validation of hyperparameter selection."
   ]
  },
  {
   "attachments": {},
   "cell_type": "markdown",
   "metadata": {},
   "source": [
    "## Plots of the raw data"
   ]
  },
  {
   "cell_type": "code",
   "execution_count": null,
   "metadata": {},
   "outputs": [],
   "source": [
    "import matplotlib.pyplot as plt\n",
    "\n",
    "#Defefinitions of Functions to Plot the data. Outputs removed.\n",
    "\n",
    "#Func 1: Object Type attribute plots, This is FR vs NFR problem after cleansing.\n",
    "def plot_ObjTypDisc(df_name):\n",
    "    plt.figure(1, figsize=(10, 8))\n",
    "\n",
    "    # Plot Object Type\n",
    "    plt.subplot(2, 2, 1)\n",
    "    object_type_counts = df_name['Object Type'].value_counts().sort_values()\n",
    "    object_type_counts.plot(kind='bar', color='darkgreen')  # Set darker bar color\n",
    "    plt.title('Object Type')\n",
    "    plt.xlabel('Object Type')\n",
    "    plt.ylabel('Object Count')\n",
    "    #plt.grid(color='lightgrey', linestyle='-', linewidth=0.5)\n",
    "    plt.gca().set_axisbelow(True)\n",
    "\n",
    "    # Add count values on each bar for Object Type\n",
    "    for i, count in enumerate(object_type_counts):\n",
    "        plt.text(i, count, str(count), ha='center', va='bottom')\n",
    "\n",
    "    # Plot Discipline\n",
    "    plt.subplot(2, 2, 2)\n",
    "    discipline_counts = df_name['Discipline'].value_counts().sort_values()\n",
    "    discipline_counts.plot(kind='bar', color='darkgreen')  # Set darker bar color\n",
    "    plt.title('Discipline')\n",
    "    plt.xlabel('Discipline')\n",
    "    plt.ylabel('Object Count')\n",
    "    #plt.grid(color='lightgrey', linestyle='-', linewidth=0.5)\n",
    "    plt.gca().set_axisbelow(True)\n",
    "    plt.tick_params(axis='x', rotation=0)\n",
    "\n",
    "    # Add count values on each bar for Discipline\n",
    "    for i, count in enumerate(discipline_counts):\n",
    "        plt.text(i, count, str(count), ha='center', va='bottom')\n",
    "\n",
    "    plt.tight_layout()\n",
    "    plt.show()\n",
    "\n",
    "#Func 2: plot the distribution of Object Type per concatenated document.\n",
    "def plot_Contracts(df_name):\n",
    "    plt.figure(0, figsize=(15, 8))\n",
    "    contracts_sorted = df_name['Module Name'].value_counts().sort_values()\n",
    "    contracts_sorted.plot(kind='bar', color='darkgreen')\n",
    "    plt.title('Contracts')\n",
    "    plt.xlabel('Object Type')\n",
    "    plt.ylabel('Contract')\n",
    "    plt.grid(color='lightgrey', linestyle='-', linewidth=0.5)\n",
    "    plt.gca().set_axisbelow(True)\n",
    "    plt.tick_params(axis='x', rotation=90)\n",
    "    # Add count values on each bar for Discipline\n",
    "    for i, count in enumerate(contracts_sorted):\n",
    "        plt.text(i, count, str(count), ha='center', va='bottom')\n",
    "        plt.show()\n",
    "\n",
    "#Func 3: Plot the Discipline per concatenated document.\n",
    "def plot_contracts_leg(df_name):\n",
    "    # Get unique values of the \"Discipline\" column\n",
    "    disciplines = df_name['Discipline'].unique()\n",
    "\n",
    "    # Create a custom color map for each unique discipline\n",
    "    colors = plt.cm.get_cmap('Dark2', len(disciplines))\n",
    "\n",
    "    plt.figure(0, figsize=(15, 8))\n",
    "\n",
    "    # Iterate over the unique disciplines\n",
    "    for i, discipline in enumerate(disciplines):\n",
    "        # Filter the data for each discipline\n",
    "        filtered_data = df_name[df_name['Discipline'] == discipline]\n",
    "        # Get the count values for each unique module name and sort them\n",
    "        module_counts = filtered_data['Module Name'].value_counts().sort_values(ascending=True)\n",
    "        # Plot the bars with the corresponding color\n",
    "        plt.bar(module_counts.index, module_counts.values, color=colors(i))\n",
    "\n",
    "    plt.title('Contracts')\n",
    "    plt.xlabel('Module Name')\n",
    "    plt.ylabel('Count')\n",
    "    plt.grid(color='lightgrey', linestyle='-', linewidth=0.5)\n",
    "    plt.gca().set_axisbelow(True)\n",
    "    plt.tick_params(axis='x', rotation=90)\n",
    "\n",
    "    # Create the custom color legend\n",
    "    legend_colors = [colors(i) for i in range(len(disciplines))]\n",
    "    legend_labels = disciplines\n",
    "\n",
    "    # Plot the color legend\n",
    "    legend_handles = [plt.Rectangle((0, 0), 1, 1, color=c) for c in legend_colors]\n",
    "    plt.legend(legend_handles, legend_labels, title='Discipline')\n",
    "    \n",
    "    plt.tight_layout()\n",
    "    plt.show()\n",
    "\n",
    "#Function 4: Variation of Function 3 to plot Discipline per concatenated document in ascending order.\n",
    "def plot_contracts_leg2(df_name):\n",
    "    # Get the count values for each unique module name\n",
    "    module_counts = df_name['Module Name'].value_counts()\n",
    "\n",
    "    # Sort the module counts in ascending order\n",
    "    sorted_module_counts = module_counts.sort_values(ascending=True)\n",
    "\n",
    "    # Get unique values of the \"Discipline\" column\n",
    "    disciplines = df_name['Discipline'].unique()\n",
    "\n",
    "    # Create a custom color map for each unique discipline\n",
    "    colors = plt.cm.get_cmap('Dark2', len(disciplines))\n",
    "\n",
    "    plt.figure(0, figsize=(15, 8))\n",
    "\n",
    "    # Assign a color to each discipline using the custom color map\n",
    "    color_map = {discipline: colors(i) for i, discipline in enumerate(disciplines)}\n",
    "\n",
    "    # Plot the bars with the corresponding color based on discipline\n",
    "    for module_name, count in sorted_module_counts.items():\n",
    "        discipline = df_name[df_name['Module Name'] == module_name]['Discipline'].values[0]\n",
    "        color = color_map[discipline]\n",
    "        plt.bar(module_name, count, color=color)\n",
    "\n",
    "    plt.title('Contracts')\n",
    "    plt.xlabel('Module Name')\n",
    "    plt.ylabel('Count')\n",
    "    plt.grid(color='lightgrey', linestyle='-', linewidth=0.5)\n",
    "    plt.gca().set_axisbelow(True)\n",
    "    plt.tick_params(axis='x', rotation=90)\n",
    "\n",
    "    # Create the custom color legend\n",
    "    legend_colors = [color_map[discipline] for discipline in disciplines]\n",
    "    legend_labels = disciplines\n",
    "\n",
    "    # Plot the color legend\n",
    "    legend_handles = [plt.Rectangle((0, 0), 1, 1, color=c) for c in legend_colors]\n",
    "    plt.legend(legend_handles, legend_labels, title='Discipline')\n",
    "\n",
    "    plt.tight_layout()\n",
    "    plt.show()\n",
    "\n",
    "#Function 5: plot the Object Tyoe per concatenated document.\n",
    "\n",
    "def plot_contracts_objTyp(df_name):\n",
    "    # Exclude rows with missing values in 'Object Type' column\n",
    "    df_filtered = df_name.dropna(subset=['Object Type'])\n",
    "\n",
    "    # Group the filtered data by Module Name and Object Type, and calculate the counts\n",
    "    grouped_data = df_filtered.groupby(['Module Name', 'Object Type']).size().unstack(fill_value=0)\n",
    "\n",
    "    # Sort the module counts in ascending order based on the total counts across all Object Types\n",
    "    sorted_module_counts = grouped_data.sum(axis=1).sort_values(ascending=True)\n",
    "\n",
    "    # Get the unique Object Types\n",
    "    object_types = df_filtered['Object Type'].unique()\n",
    "\n",
    "    # Create a custom color map for each unique Object Type\n",
    "    colors = plt.cm.get_cmap('Dark2', len(object_types))\n",
    "\n",
    "    plt.figure(0, figsize=(15, 8))\n",
    "\n",
    "    # Assign a color to each Object Type using the custom color map\n",
    "    color_map = {object_type: colors(i) for i, object_type in enumerate(object_types)}\n",
    "\n",
    "    # Initialize the bottom values for each stacked bar\n",
    "    bottom = np.zeros(len(sorted_module_counts))\n",
    "\n",
    "    # Plot the stacked bars with the corresponding color based on Object Type\n",
    "    for object_type in object_types:\n",
    "        counts = grouped_data[object_type].loc[sorted_module_counts.index]\n",
    "        color = color_map[object_type]\n",
    "        plt.bar(sorted_module_counts.index, counts, bottom=bottom, color=color, label=object_type)\n",
    "        bottom += counts\n",
    "\n",
    "    plt.title('Contracts')\n",
    "    plt.xlabel('Module Name')\n",
    "    plt.ylabel('Count')\n",
    "    plt.grid(color='lightgrey', linestyle='-', linewidth=0.5)\n",
    "    plt.gca().set_axisbelow(True)\n",
    "    plt.tick_params(axis='x', rotation=90)\n",
    "\n",
    "    # Plot the custom color legend for Object Type\n",
    "    legend_handles = [plt.Rectangle((0, 0), 1, 1, color=color_map[object_type]) for object_type in object_types]\n",
    "    plt.legend(legend_handles, object_types, title='Object Type')\n",
    "\n",
    "    plt.tight_layout()\n",
    "    plt.show()\n",
    "\n",
    "\n",
    "def plot_contracts_by_discipline(df_name):\n",
    "    # Exclude rows with missing values in 'Object Type' column\n",
    "    df_filtered = df_name.dropna(subset=['Object Type'])\n",
    "\n",
    "    # Group the filtered data by Discipline and Object Type, and calculate the counts\n",
    "    grouped_data = df_filtered.groupby(['Discipline', 'Object Type']).size().unstack(fill_value=0)\n",
    "\n",
    "    # Sort the discipline counts in ascending order based on the total counts across all Object Types\n",
    "    sorted_discipline_counts = grouped_data.sum(axis=1).sort_values(ascending=True)\n",
    "\n",
    "    # Get the unique Object Types\n",
    "    object_types = df_filtered['Object Type'].unique()\n",
    "\n",
    "    # Create a custom color map for each unique Object Type\n",
    "    colors = plt.cm.get_cmap('Dark2', len(object_types))\n",
    "\n",
    "    plt.figure(0, figsize=(6, 5))\n",
    "\n",
    "    # Assign a color to each Object Type using the custom color map\n",
    "    color_map = {object_type: colors(i) for i, object_type in enumerate(object_types)}\n",
    "\n",
    "    # Initialize the bottom values for each stacked bar\n",
    "    bottom = np.zeros(len(sorted_discipline_counts))\n",
    "\n",
    "    # Set the width of the bars\n",
    "    bar_width = 1.8 / len(object_types)\n",
    "\n",
    "    # Plot the stacked bars with the corresponding color based on Object Type\n",
    "    for object_type in object_types:\n",
    "        counts = grouped_data[object_type].loc[sorted_discipline_counts.index]\n",
    "        color = color_map[object_type]\n",
    "        plt.bar(sorted_discipline_counts.index, counts, bottom=bottom, width=bar_width, color=color, label=object_type)\n",
    "        bottom += counts\n",
    "\n",
    "    plt.title('Contracts by Discipline')\n",
    "    plt.xlabel('Discipline')\n",
    "    plt.ylabel('Count')\n",
    "    plt.grid(color='lightgrey', linestyle='-', linewidth=0.5)\n",
    "    plt.gca().set_axisbelow(True)\n",
    "\n",
    "    # Plot the custom color legend for Object Type\n",
    "    legend_handles = [plt.Rectangle((0, 0), 1, 1, color=color_map[object_type]) for object_type in object_types]\n",
    "    plt.legend(legend_handles, object_types, title='Object Type')\n",
    "\n",
    "    plt.tight_layout()\n",
    "    plt.show()"
   ]
  },
  {
   "cell_type": "code",
   "execution_count": null,
   "metadata": {},
   "outputs": [],
   "source": [
    "#Call the Functions.\n",
    "\n",
    "plot_ObjTypDisc(df)\n",
    "\n",
    "plot_Contracts(df)\n",
    "\n",
    "plot_contracts_leg(df)\n",
    "\n",
    "\n",
    "plot_contracts_leg2(df)\n",
    "\n",
    "plot_contracts_objTyp(df)\n",
    "\n",
    "plot_contracts_by_discipline(df)"
   ]
  },
  {
   "attachments": {},
   "cell_type": "markdown",
   "metadata": {},
   "source": [
    "## Cleaning the Data"
   ]
  },
  {
   "attachments": {},
   "cell_type": "markdown",
   "metadata": {},
   "source": [
    "This section cleans the dataset for the Models. Some outputs are removed to protect Propriety data."
   ]
  },
  {
   "attachments": {},
   "cell_type": "markdown",
   "metadata": {},
   "source": [
    "#### Print the classes"
   ]
  },
  {
   "cell_type": "code",
   "execution_count": null,
   "metadata": {},
   "outputs": [],
   "source": [
    "def get_unique_values(df_name):\n",
    "    unique_object_types = df_name['Object Type'].unique()\n",
    "    unique_disciplines = df_name['Discipline'].unique()\n",
    "    unique_module_ids = df_name['Module Name'].unique()\n",
    "\n",
    "    print(\"Unique Object Types:\")\n",
    "    print(unique_object_types)\n",
    "    print()\n",
    "\n",
    "    print(\"Unique Disciplines:\")\n",
    "    print(unique_disciplines)\n",
    "    print()\n",
    "\n",
    "    print(\"Unique Module IDs:\")\n",
    "    print(unique_module_ids)\n",
    "\n",
    "  \n",
    "\n",
    "get_unique_values(df)\n"
   ]
  },
  {
   "attachments": {},
   "cell_type": "markdown",
   "metadata": {},
   "source": [
    "#### Print the count of classes"
   ]
  },
  {
   "cell_type": "code",
   "execution_count": null,
   "metadata": {},
   "outputs": [],
   "source": [
    "#Function to print unique value counts of each label.\n",
    "def print_value_counts(column, df):\n",
    "    print(f\"Count of values for column '{column}':\")\n",
    "    print('---------------------------------------')  \n",
    "    value_counts = df[column].value_counts()\n",
    "    for value, count in value_counts.items():\n",
    "        print(f\"{value}: {count}\")\n",
    "    print('---------------------------------------')  # Add an empty line after printing the counts\n",
    "\n",
    "    \n",
    "print_value_counts('Object Type',df)\n",
    "print_value_counts('Discipline',df)\n",
    "print_value_counts('Module Name',df)"
   ]
  },
  {
   "attachments": {},
   "cell_type": "markdown",
   "metadata": {},
   "source": [
    "### Clean the enumerations\n",
    "Below the data cleansing process begins:\n",
    "Bias has been carefully considered for the object type, where Information is treated as an Non Functional Requirement, and Requirement as a Functional Requirement. The rest are admin types. For the deleted cases, it is not straightforward to know if they where Functional or Non funtional before deletion without advanced DXL scripting and the benefit would be minimal.\n",
    "In terms of the Discipline normalisation we group 2 classes as earlier described."
   ]
  },
  {
   "cell_type": "code",
   "execution_count": null,
   "metadata": {},
   "outputs": [],
   "source": [
    "filtered_df = df[~df['Object Type'].isin(['nan', 'Heading', 'DELETED', 'Deleted', 'CRT Text'])] #Get rid of Nan values, and placehodler values of Object Type, so only values are Requirement (Functional Requirement) and Information (Non-Functional Requirement)\n",
    "filtered_df.loc[filtered_df['Object Type'].str.contains('Guidance', na=False), 'Object Type'] = 'Information'\n",
    "filtered_df['Discipline'].replace(['Civils', 'Stations'], 'Construction', inplace=True) #Group the ambiguous discipline classes\n",
    "filtered_df = filtered_df.dropna(how='any') #Drop all NAN values\n",
    "\n",
    "get_unique_values(filtered_df)"
   ]
  },
  {
   "cell_type": "code",
   "execution_count": null,
   "metadata": {},
   "outputs": [],
   "source": [
    "print_value_counts('Object Type',filtered_df)\n",
    "print_value_counts('Discipline',filtered_df)\n",
    "print_value_counts('Module Name',filtered_df)"
   ]
  },
  {
   "attachments": {},
   "cell_type": "markdown",
   "metadata": {},
   "source": [
    "### Remove duplicated targets"
   ]
  },
  {
   "cell_type": "code",
   "execution_count": null,
   "metadata": {},
   "outputs": [],
   "source": [
    "def remove_duplicates(df_input):\n",
    "    # Group by \"Object Text\" and concatenate the values in other columns\n",
    "    grouped_df = df_input.groupby('Object Text').agg({\n",
    "        'Discipline': 'first',\n",
    "        'Module Name': lambda x: list(x),\n",
    "        'Module UID': lambda x: list(x),\n",
    "        'Requirement ID': lambda x: list(x),\n",
    "        'Object Type': 'first'\n",
    "    }).reset_index()\n",
    "\n",
    "    return grouped_df\n",
    "\n",
    "df_cleaned=remove_duplicates(filtered_df)\n",
    "df_cleaned.head()"
   ]
  },
  {
   "attachments": {},
   "cell_type": "markdown",
   "metadata": {},
   "source": [
    "### Training and Test Dataset: Roberta"
   ]
  },
  {
   "cell_type": "code",
   "execution_count": 18,
   "metadata": {},
   "outputs": [
    {
     "name": "stdout",
     "output_type": "stream",
     "text": [
      "Training dataset shape: (9542, 6)\n",
      "Validation dataset shape: (2386, 6)\n",
      "Testing dataset shape: (2983, 6)\n"
     ]
    }
   ],
   "source": [
    "## For Roberta\n",
    "# Splitting the dataset into training (80%) and testing (20%)\n",
    "train_preval_df, test_df = train_test_split(df_cleaned, test_size=0.2, stratify=df_cleaned[['Discipline', 'Object Type']])\n",
    "\n",
    "#Take 20% of the Training data for validation of hyperparameter tuning\n",
    "train_df, val_df = train_test_split(train_preval_df, test_size=0.2, stratify=train_preval_df[['Discipline', 'Object Type']])\n",
    "# Print the shape of the training and testing datasets\n",
    "print(\"Training dataset shape:\", train_df.shape)\n",
    "print(\"Validation dataset shape:\", val_df.shape)\n",
    "print(\"Testing dataset shape:\", test_df.shape)"
   ]
  },
  {
   "attachments": {},
   "cell_type": "markdown",
   "metadata": {},
   "source": [
    "#### Map the labels into integers"
   ]
  },
  {
   "cell_type": "code",
   "execution_count": 19,
   "metadata": {},
   "outputs": [
    {
     "name": "stdout",
     "output_type": "stream",
     "text": [
      "Mapping for 'Object Type': {'Requirement': 0, 'Information': 1}\n",
      "Mapping for 'Discipline': {'Rail Systems': 0, 'Construction': 1}\n",
      "Mapping for 'Object Type': {'Requirement': 0, 'Information': 1}\n",
      "Mapping for 'Discipline': {'Construction': 0, 'Rail Systems': 1}\n",
      "Mapping for 'Object Type': {'Information': 0, 'Requirement': 1}\n",
      "Mapping for 'Discipline': {'Rail Systems': 0, 'Construction': 1}\n"
     ]
    }
   ],
   "source": [
    "def discretize_dataframe(input_df):\n",
    "    # Create a copy of the input DataFrame\n",
    "    disc_df = input_df.copy()\n",
    "\n",
    "    # Create a dictionary to store column mappings\n",
    "    column_mapping = {}\n",
    "\n",
    "    # Iterate over the columns to be normalized\n",
    "    columns_to_normalize = ['Object Type', 'Discipline']\n",
    "    for column in columns_to_normalize:\n",
    "        # Create a dictionary mapping for the current column\n",
    "        column_mapping[column] = {value: index for index, value in enumerate(disc_df[column].dropna().unique())}\n",
    "        \n",
    "        # Update the column values in the normalized DataFrame\n",
    "        disc_df[column] = disc_df[column].map(column_mapping[column])\n",
    "\n",
    "    # Print the column mappings\n",
    "    for column, mapping in column_mapping.items():\n",
    "        print(f\"Mapping for '{column}': {mapping}\")\n",
    "\n",
    "    return disc_df\n",
    "\n",
    "train_df_disc=discretize_dataframe(train_df)\n",
    "test_df_disc=discretize_dataframe(test_df)\n",
    "val_df_disc=discretize_dataframe(val_df)\n"
   ]
  },
  {
   "cell_type": "code",
   "execution_count": 194,
   "metadata": {},
   "outputs": [],
   "source": [
    "train_df_disc.to_csv('/Users/alangilliland/Documents/Work/Msc/ResearchProject/Datasets/HS2_DATASET/V2/train_data.csv', index=False)\n",
    "test_df_disc.to_csv('/Users/alangilliland/Documents/Work/Msc/ResearchProject/Datasets/HS2_DATASET/V2/test_data.csv', index=False)\n",
    "val_df_disc.to_csv('/Users/alangilliland/Documents/Work/Msc/ResearchProject/Datasets/HS2_DATASET/V2/val_data.csv', index=False)"
   ]
  },
  {
   "cell_type": "code",
   "execution_count": 24,
   "metadata": {},
   "outputs": [
    {
     "name": "stdout",
     "output_type": "stream",
     "text": [
      "Mapping for 'Object Type': {'Information': 0, 'Requirement': 1}\n",
      "Mapping for 'Discipline': {'Rail Systems': 0, 'Construction': 1}\n"
     ]
    },
    {
     "data": {
      "image/png": "[encoded data removed]",
      "text/plain": [
       "<Figure size 432x360 with 1 Axes>"
      ]
     },
     "metadata": {
      "needs_background": "light"
     },
     "output_type": "display_data"
    },
    {
     "name": "stdout",
     "output_type": "stream",
     "text": [
      "<class 'pandas.core.frame.DataFrame'>\n",
      "RangeIndex: 14911 entries, 0 to 14910\n",
      "Data columns (total 6 columns):\n",
      " #   Column          Non-Null Count  Dtype \n",
      "---  ------          --------------  ----- \n",
      " 0   Object Text     14911 non-null  object\n",
      " 1   Discipline      14911 non-null  int64 \n",
      " 2   Module Name     14911 non-null  object\n",
      " 3   Module UID      14911 non-null  object\n",
      " 4   Requirement ID  14911 non-null  object\n",
      " 5   Object Type     14911 non-null  int64 \n",
      "dtypes: int64(2), object(4)\n",
      "memory usage: 699.1+ KB\n"
     ]
    }
   ],
   "source": [
    "df_cleaned_plot=discretize_dataframe(df_cleaned)\n",
    "plot_contracts_by_discipline(df_cleaned_plot)\n",
    "df_cleaned_plot.info()"
   ]
  },
  {
   "attachments": {},
   "cell_type": "markdown",
   "metadata": {},
   "source": [
    "### Convert it to JSON format for LLAMA"
   ]
  },
  {
   "cell_type": "code",
   "execution_count": 212,
   "metadata": {},
   "outputs": [],
   "source": [
    "def convert_dataframe_to_json(input_df):\n",
    "    # Remove the specified columns\n",
    "    columns_to_remove = ['Module Name', 'Module UID', 'Requirement ID']\n",
    "    df = input_df.drop(columns_to_remove, axis=1)\n",
    "    \n",
    "    # Convert the remaining data to JSON\n",
    "    json_data = []\n",
    "    for _, row in df.iterrows():\n",
    "        obj_text = row['Object Text']\n",
    "        obj_type = row['Object Type']\n",
    "        discipline = row['Discipline']\n",
    "        \n",
    "        data = {\n",
    "            \"instruction\": obj_text,\n",
    "            \"input\": \"\",\n",
    "            \"output\": f\"{obj_type}, {discipline}\"\n",
    "        }\n",
    "        \n",
    "        json_data.append(data)\n",
    "    \n",
    "    # Convert the list of dictionaries to JSON string without escape characters\n",
    "    json_string = json.dumps(json_data, indent=4, ensure_ascii=False)\n",
    "    \n",
    "    return json_string\n",
    "\n",
    "train_json_llama = convert_dataframe_to_json(train_json_llama_df)\n",
    "test_json_llama = convert_dataframe_to_json(test_json_llama_df)\n",
    "\n",
    "llama_train_path = 'output path/train.json'\n",
    "llama_test_path = 'output path/test.json'\n",
    "\n",
    "# Save the JSON to the specified file path\n",
    "with open(llama_train_path, 'w', encoding='utf-8') as f:\n",
    "    f.write(train_json_llama)\n",
    "\n",
    "# Save the JSON to the specified file path\n",
    "with open(llama_test_path, 'w', encoding='utf-8') as f:\n",
    "    f.write(test_json_llama)"
   ]
  },
  {
   "cell_type": "code",
   "execution_count": 213,
   "metadata": {},
   "outputs": [],
   "source": [
    "test_json_llama_df.to_csv('/Users/alangilliland/Documents/Work/Msc/ResearchProject/Datasets/HS2_DATASET/V2/test.csv', index=False)"
   ]
  }
 ],
 "metadata": {
  "kernelspec": {
   "display_name": "torch-gpu",
   "language": "python",
   "name": "python3"
  },
  "language_info": {
   "codemirror_mode": {
    "name": "ipython",
    "version": 3
   },
   "file_extension": ".py",
   "mimetype": "text/x-python",
   "name": "python",
   "nbconvert_exporter": "python",
   "pygments_lexer": "ipython3",
   "version": "3.9.7"
  },
  "orig_nbformat": 4
 },
 "nbformat": 4,
 "nbformat_minor": 2
}
